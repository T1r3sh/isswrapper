{
  "nbformat": 4,
  "nbformat_minor": 0,
  "metadata": {
    "colab": {
      "name": "isswrapper_getting_started.ipynb",
      "provenance": [],
      "collapsed_sections": [],
      "authorship_tag": "ABX9TyP1i1HHxtk4ZtjbUZ5ZdUDM",
      "include_colab_link": true
    },
    "kernelspec": {
      "name": "python3",
      "display_name": "Python 3"
    },
    "language_info": {
      "name": "python"
    }
  },
  "cells": [
    {
      "cell_type": "markdown",
      "metadata": {
        "id": "view-in-github",
        "colab_type": "text"
      },
      "source": [
        "<a href=\"https://colab.research.google.com/github/tibhar940/isswrapper/blob/develop/isswrapper_getting_started.ipynb\" target=\"_parent\"><img src=\"https://colab.research.google.com/assets/colab-badge.svg\" alt=\"Open In Colab\"/></a>"
      ]
    },
    {
      "cell_type": "code",
      "metadata": {
        "colab": {
          "base_uri": "https://localhost:8080/",
          "height": 908
        },
        "id": "6HNhUXHpsAuG",
        "outputId": "380067df-b6db-4d81-843e-ae901c50fb62"
      },
      "source": [
        "!git clone https://github.com/tibhar940/isswrapper.git --branch develop\n",
        "!pip install isswrapper/.\n",
        "!pip install -U matplotlib"
      ],
      "execution_count": 21,
      "outputs": [
        {
          "output_type": "stream",
          "text": [
            "fatal: destination path 'isswrapper' already exists and is not an empty directory.\n",
            "Processing ./isswrapper\n",
            "Requirement already satisfied: matplotlib in /usr/local/lib/python3.7/dist-packages (from isswrapper==1.0.0) (3.2.2)\n",
            "Requirement already satisfied: pandas in /usr/local/lib/python3.7/dist-packages (from isswrapper==1.0.0) (1.1.5)\n",
            "Requirement already satisfied: requests in /usr/local/lib/python3.7/dist-packages (from isswrapper==1.0.0) (2.23.0)\n",
            "Requirement already satisfied: tqdm in /usr/local/lib/python3.7/dist-packages (from isswrapper==1.0.0) (4.41.1)\n",
            "Requirement already satisfied: numpy>=1.11 in /usr/local/lib/python3.7/dist-packages (from matplotlib->isswrapper==1.0.0) (1.19.5)\n",
            "Requirement already satisfied: pyparsing!=2.0.4,!=2.1.2,!=2.1.6,>=2.0.1 in /usr/local/lib/python3.7/dist-packages (from matplotlib->isswrapper==1.0.0) (2.4.7)\n",
            "Requirement already satisfied: kiwisolver>=1.0.1 in /usr/local/lib/python3.7/dist-packages (from matplotlib->isswrapper==1.0.0) (1.3.1)\n",
            "Requirement already satisfied: python-dateutil>=2.1 in /usr/local/lib/python3.7/dist-packages (from matplotlib->isswrapper==1.0.0) (2.8.1)\n",
            "Requirement already satisfied: cycler>=0.10 in /usr/local/lib/python3.7/dist-packages (from matplotlib->isswrapper==1.0.0) (0.10.0)\n",
            "Requirement already satisfied: pytz>=2017.2 in /usr/local/lib/python3.7/dist-packages (from pandas->isswrapper==1.0.0) (2018.9)\n",
            "Requirement already satisfied: chardet<4,>=3.0.2 in /usr/local/lib/python3.7/dist-packages (from requests->isswrapper==1.0.0) (3.0.4)\n",
            "Requirement already satisfied: idna<3,>=2.5 in /usr/local/lib/python3.7/dist-packages (from requests->isswrapper==1.0.0) (2.10)\n",
            "Requirement already satisfied: certifi>=2017.4.17 in /usr/local/lib/python3.7/dist-packages (from requests->isswrapper==1.0.0) (2020.12.5)\n",
            "Requirement already satisfied: urllib3!=1.25.0,!=1.25.1,<1.26,>=1.21.1 in /usr/local/lib/python3.7/dist-packages (from requests->isswrapper==1.0.0) (1.24.3)\n",
            "Requirement already satisfied: six>=1.5 in /usr/local/lib/python3.7/dist-packages (from python-dateutil>=2.1->matplotlib->isswrapper==1.0.0) (1.15.0)\n",
            "Building wheels for collected packages: isswrapper\n",
            "  Building wheel for isswrapper (setup.py) ... \u001b[?25l\u001b[?25hdone\n",
            "  Created wheel for isswrapper: filename=isswrapper-1.0.0-cp37-none-any.whl size=6574 sha256=d7adb6e42d75b0101e575f9a13645029d970a71723fe71bb63414770603e7e97\n",
            "  Stored in directory: /tmp/pip-ephem-wheel-cache-jb8_32kn/wheels/bc/a9/38/f763b62249658ab0d11fa7ffd0b8eb5074d298c0ab13defc62\n",
            "Successfully built isswrapper\n",
            "Installing collected packages: isswrapper\n",
            "  Found existing installation: isswrapper 1.0.0\n",
            "    Uninstalling isswrapper-1.0.0:\n",
            "      Successfully uninstalled isswrapper-1.0.0\n",
            "Successfully installed isswrapper-1.0.0\n"
          ],
          "name": "stdout"
        },
        {
          "output_type": "display_data",
          "data": {
            "application/vnd.colab-display-data+json": {
              "pip_warning": {
                "packages": [
                  "isswrapper"
                ]
              }
            }
          },
          "metadata": {
            "tags": []
          }
        },
        {
          "output_type": "stream",
          "text": [
            "Collecting matplotlib\n",
            "\u001b[?25l  Downloading https://files.pythonhosted.org/packages/ce/63/74c0b6184b6b169b121bb72458818ee60a7d7c436d7b1907bd5874188c55/matplotlib-3.4.1-cp37-cp37m-manylinux1_x86_64.whl (10.3MB)\n",
            "\u001b[K     |████████████████████████████████| 10.3MB 6.2MB/s \n",
            "\u001b[?25hRequirement already satisfied, skipping upgrade: pyparsing>=2.2.1 in /usr/local/lib/python3.7/dist-packages (from matplotlib) (2.4.7)\n",
            "Requirement already satisfied, skipping upgrade: numpy>=1.16 in /usr/local/lib/python3.7/dist-packages (from matplotlib) (1.19.5)\n",
            "Requirement already satisfied, skipping upgrade: python-dateutil>=2.7 in /usr/local/lib/python3.7/dist-packages (from matplotlib) (2.8.1)\n",
            "Requirement already satisfied, skipping upgrade: pillow>=6.2.0 in /usr/local/lib/python3.7/dist-packages (from matplotlib) (7.1.2)\n",
            "Requirement already satisfied, skipping upgrade: cycler>=0.10 in /usr/local/lib/python3.7/dist-packages (from matplotlib) (0.10.0)\n",
            "Requirement already satisfied, skipping upgrade: kiwisolver>=1.0.1 in /usr/local/lib/python3.7/dist-packages (from matplotlib) (1.3.1)\n",
            "Requirement already satisfied, skipping upgrade: six>=1.5 in /usr/local/lib/python3.7/dist-packages (from python-dateutil>=2.7->matplotlib) (1.15.0)\n",
            "\u001b[31mERROR: albumentations 0.1.12 has requirement imgaug<0.2.7,>=0.2.5, but you'll have imgaug 0.2.9 which is incompatible.\u001b[0m\n",
            "Installing collected packages: matplotlib\n",
            "  Found existing installation: matplotlib 3.2.2\n",
            "    Uninstalling matplotlib-3.2.2:\n",
            "      Successfully uninstalled matplotlib-3.2.2\n",
            "Successfully installed matplotlib-3.4.1\n"
          ],
          "name": "stdout"
        },
        {
          "output_type": "display_data",
          "data": {
            "application/vnd.colab-display-data+json": {
              "pip_warning": {
                "packages": [
                  "matplotlib",
                  "mpl_toolkits"
                ]
              }
            }
          },
          "metadata": {
            "tags": []
          }
        }
      ]
    },
    {
      "cell_type": "code",
      "metadata": {
        "colab": {
          "base_uri": "https://localhost:8080/"
        },
        "id": "Hynl1jL6tzpi",
        "outputId": "40279662-c208-418c-ce5e-b92a0e8bbf97"
      },
      "source": [
        "import isswrapper\n",
        "print(isswrapper.__version__)"
      ],
      "execution_count": 1,
      "outputs": [
        {
          "output_type": "stream",
          "text": [
            "1.0.0\n"
          ],
          "name": "stdout"
        }
      ]
    },
    {
      "cell_type": "code",
      "metadata": {
        "id": "ZQdO7-2cuUTQ"
      },
      "source": [
        "from isswrapper.loaders.securities import security_description"
      ],
      "execution_count": 3,
      "outputs": []
    },
    {
      "cell_type": "code",
      "metadata": {
        "id": "LLNZEaeRucej"
      },
      "source": [
        "df = security_description(q=\"MOEX\", lang=\"en\")"
      ],
      "execution_count": 43,
      "outputs": []
    },
    {
      "cell_type": "code",
      "metadata": {
        "colab": {
          "base_uri": "https://localhost:8080/",
          "height": 580
        },
        "id": "bmRXER7xugc9",
        "outputId": "98e31cc5-c892-492d-fe38-c438e12d8a9a"
      },
      "source": [
        "df"
      ],
      "execution_count": 44,
      "outputs": [
        {
          "output_type": "execute_result",
          "data": {
            "text/html": [
              "<div>\n",
              "<style scoped>\n",
              "    .dataframe tbody tr th:only-of-type {\n",
              "        vertical-align: middle;\n",
              "    }\n",
              "\n",
              "    .dataframe tbody tr th {\n",
              "        vertical-align: top;\n",
              "    }\n",
              "\n",
              "    .dataframe thead th {\n",
              "        text-align: right;\n",
              "    }\n",
              "</style>\n",
              "<table border=\"1\" class=\"dataframe\">\n",
              "  <thead>\n",
              "    <tr style=\"text-align: right;\">\n",
              "      <th></th>\n",
              "      <th>name</th>\n",
              "      <th>title</th>\n",
              "      <th>value</th>\n",
              "      <th>type</th>\n",
              "      <th>sort_order</th>\n",
              "      <th>is_hidden</th>\n",
              "      <th>precision</th>\n",
              "    </tr>\n",
              "  </thead>\n",
              "  <tbody>\n",
              "    <tr>\n",
              "      <th>0</th>\n",
              "      <td>SECID</td>\n",
              "      <td>Security code</td>\n",
              "      <td>MOEX</td>\n",
              "      <td>string</td>\n",
              "      <td>1</td>\n",
              "      <td>0</td>\n",
              "      <td>&lt;NA&gt;</td>\n",
              "    </tr>\n",
              "    <tr>\n",
              "      <th>1</th>\n",
              "      <td>NAME</td>\n",
              "      <td>Full name</td>\n",
              "      <td>MoscowExchange</td>\n",
              "      <td>string</td>\n",
              "      <td>3</td>\n",
              "      <td>0</td>\n",
              "      <td>&lt;NA&gt;</td>\n",
              "    </tr>\n",
              "    <tr>\n",
              "      <th>2</th>\n",
              "      <td>SHORTNAME</td>\n",
              "      <td>Short name</td>\n",
              "      <td>MoscowExchange</td>\n",
              "      <td>string</td>\n",
              "      <td>4</td>\n",
              "      <td>0</td>\n",
              "      <td>&lt;NA&gt;</td>\n",
              "    </tr>\n",
              "    <tr>\n",
              "      <th>3</th>\n",
              "      <td>ISIN</td>\n",
              "      <td>ISIN Code</td>\n",
              "      <td>RU000A0JR4A1</td>\n",
              "      <td>string</td>\n",
              "      <td>5</td>\n",
              "      <td>0</td>\n",
              "      <td>&lt;NA&gt;</td>\n",
              "    </tr>\n",
              "    <tr>\n",
              "      <th>4</th>\n",
              "      <td>REGNUMBER</td>\n",
              "      <td>State registration  number</td>\n",
              "      <td>1-05-08443-H</td>\n",
              "      <td>string</td>\n",
              "      <td>6</td>\n",
              "      <td>0</td>\n",
              "      <td>&lt;NA&gt;</td>\n",
              "    </tr>\n",
              "    <tr>\n",
              "      <th>5</th>\n",
              "      <td>ISSUESIZE</td>\n",
              "      <td>Issue Size</td>\n",
              "      <td>2276401458</td>\n",
              "      <td>number</td>\n",
              "      <td>7</td>\n",
              "      <td>0</td>\n",
              "      <td>0</td>\n",
              "    </tr>\n",
              "    <tr>\n",
              "      <th>6</th>\n",
              "      <td>FACEVALUE</td>\n",
              "      <td>Face value</td>\n",
              "      <td>1</td>\n",
              "      <td>number</td>\n",
              "      <td>8</td>\n",
              "      <td>0</td>\n",
              "      <td>2</td>\n",
              "    </tr>\n",
              "    <tr>\n",
              "      <th>7</th>\n",
              "      <td>FACEUNIT</td>\n",
              "      <td>Face value currency</td>\n",
              "      <td>SUR</td>\n",
              "      <td>string</td>\n",
              "      <td>9</td>\n",
              "      <td>0</td>\n",
              "      <td>&lt;NA&gt;</td>\n",
              "    </tr>\n",
              "    <tr>\n",
              "      <th>8</th>\n",
              "      <td>ISSUEDATE</td>\n",
              "      <td>Date of listing</td>\n",
              "      <td>2013-02-04</td>\n",
              "      <td>date</td>\n",
              "      <td>10</td>\n",
              "      <td>0</td>\n",
              "      <td>&lt;NA&gt;</td>\n",
              "    </tr>\n",
              "    <tr>\n",
              "      <th>9</th>\n",
              "      <td>LATNAME</td>\n",
              "      <td>Full name in English</td>\n",
              "      <td>MoscowExchange</td>\n",
              "      <td>string</td>\n",
              "      <td>11</td>\n",
              "      <td>1</td>\n",
              "      <td>&lt;NA&gt;</td>\n",
              "    </tr>\n",
              "    <tr>\n",
              "      <th>10</th>\n",
              "      <td>LISTLEVEL</td>\n",
              "      <td>List level</td>\n",
              "      <td>1</td>\n",
              "      <td>number</td>\n",
              "      <td>32</td>\n",
              "      <td>0</td>\n",
              "      <td>0</td>\n",
              "    </tr>\n",
              "    <tr>\n",
              "      <th>11</th>\n",
              "      <td>ISQUALIFIEDINVESTORS</td>\n",
              "      <td>Qualified investors</td>\n",
              "      <td>0</td>\n",
              "      <td>boolean</td>\n",
              "      <td>34</td>\n",
              "      <td>0</td>\n",
              "      <td>0</td>\n",
              "    </tr>\n",
              "    <tr>\n",
              "      <th>12</th>\n",
              "      <td>EVENINGSESSION</td>\n",
              "      <td>Admission to the additional trading session</td>\n",
              "      <td>1</td>\n",
              "      <td>boolean</td>\n",
              "      <td>37</td>\n",
              "      <td>0</td>\n",
              "      <td>0</td>\n",
              "    </tr>\n",
              "    <tr>\n",
              "      <th>13</th>\n",
              "      <td>TYPENAME</td>\n",
              "      <td>Security type</td>\n",
              "      <td>Common stock</td>\n",
              "      <td>string</td>\n",
              "      <td>71</td>\n",
              "      <td>0</td>\n",
              "      <td>&lt;NA&gt;</td>\n",
              "    </tr>\n",
              "    <tr>\n",
              "      <th>14</th>\n",
              "      <td>GROUP</td>\n",
              "      <td>Instrument type code</td>\n",
              "      <td>stock_shares</td>\n",
              "      <td>string</td>\n",
              "      <td>72</td>\n",
              "      <td>1</td>\n",
              "      <td>&lt;NA&gt;</td>\n",
              "    </tr>\n",
              "    <tr>\n",
              "      <th>15</th>\n",
              "      <td>TYPE</td>\n",
              "      <td>Security type</td>\n",
              "      <td>common_share</td>\n",
              "      <td>string</td>\n",
              "      <td>10000</td>\n",
              "      <td>1</td>\n",
              "      <td>&lt;NA&gt;</td>\n",
              "    </tr>\n",
              "    <tr>\n",
              "      <th>16</th>\n",
              "      <td>GROUPNAME</td>\n",
              "      <td>Instrument type</td>\n",
              "      <td>Stocks</td>\n",
              "      <td>string</td>\n",
              "      <td>10011</td>\n",
              "      <td>1</td>\n",
              "      <td>&lt;NA&gt;</td>\n",
              "    </tr>\n",
              "    <tr>\n",
              "      <th>17</th>\n",
              "      <td>EMITTER_ID</td>\n",
              "      <td>Emitter code</td>\n",
              "      <td>2624</td>\n",
              "      <td>number</td>\n",
              "      <td>11000</td>\n",
              "      <td>1</td>\n",
              "      <td>&lt;NA&gt;</td>\n",
              "    </tr>\n",
              "  </tbody>\n",
              "</table>\n",
              "</div>"
            ],
            "text/plain": [
              "                    name  ... precision\n",
              "0                  SECID  ...      <NA>\n",
              "1                   NAME  ...      <NA>\n",
              "2              SHORTNAME  ...      <NA>\n",
              "3                   ISIN  ...      <NA>\n",
              "4              REGNUMBER  ...      <NA>\n",
              "5              ISSUESIZE  ...         0\n",
              "6              FACEVALUE  ...         2\n",
              "7               FACEUNIT  ...      <NA>\n",
              "8              ISSUEDATE  ...      <NA>\n",
              "9                LATNAME  ...      <NA>\n",
              "10             LISTLEVEL  ...         0\n",
              "11  ISQUALIFIEDINVESTORS  ...         0\n",
              "12        EVENINGSESSION  ...         0\n",
              "13              TYPENAME  ...      <NA>\n",
              "14                 GROUP  ...      <NA>\n",
              "15                  TYPE  ...      <NA>\n",
              "16             GROUPNAME  ...      <NA>\n",
              "17            EMITTER_ID  ...      <NA>\n",
              "\n",
              "[18 rows x 7 columns]"
            ]
          },
          "metadata": {
            "tags": []
          },
          "execution_count": 44
        }
      ]
    },
    {
      "cell_type": "code",
      "metadata": {
        "id": "WzpErwWnt8I0"
      },
      "source": [
        "import datetime\n",
        "from isswrapper.loaders.candles import candles"
      ],
      "execution_count": 13,
      "outputs": []
    },
    {
      "cell_type": "code",
      "metadata": {
        "id": "psNsHO6IuDSW"
      },
      "source": [
        "df = candles(\n",
        "    engine=\"stock\",\n",
        "    market=\"shares\",\n",
        "    boardid=\"TQBR\",\n",
        "    securityid=\"MOEX\",\n",
        "    interval=24\n",
        ")"
      ],
      "execution_count": 48,
      "outputs": []
    },
    {
      "cell_type": "code",
      "metadata": {
        "colab": {
          "base_uri": "https://localhost:8080/"
        },
        "id": "Lpkg8Xh-vX3z",
        "outputId": "a3f34de4-9cd9-4aef-f5d8-04752c2eb81f"
      },
      "source": [
        "df.shape"
      ],
      "execution_count": 49,
      "outputs": [
        {
          "output_type": "execute_result",
          "data": {
            "text/plain": [
              "(500, 8)"
            ]
          },
          "metadata": {
            "tags": []
          },
          "execution_count": 49
        }
      ]
    },
    {
      "cell_type": "code",
      "metadata": {
        "colab": {
          "base_uri": "https://localhost:8080/",
          "height": 195
        },
        "id": "3egNpot3vZiI",
        "outputId": "8b124838-d07a-4bec-f261-36cbf798c347"
      },
      "source": [
        "df.head()"
      ],
      "execution_count": 50,
      "outputs": [
        {
          "output_type": "execute_result",
          "data": {
            "text/html": [
              "<div>\n",
              "<style scoped>\n",
              "    .dataframe tbody tr th:only-of-type {\n",
              "        vertical-align: middle;\n",
              "    }\n",
              "\n",
              "    .dataframe tbody tr th {\n",
              "        vertical-align: top;\n",
              "    }\n",
              "\n",
              "    .dataframe thead th {\n",
              "        text-align: right;\n",
              "    }\n",
              "</style>\n",
              "<table border=\"1\" class=\"dataframe\">\n",
              "  <thead>\n",
              "    <tr style=\"text-align: right;\">\n",
              "      <th></th>\n",
              "      <th>open</th>\n",
              "      <th>close</th>\n",
              "      <th>high</th>\n",
              "      <th>low</th>\n",
              "      <th>value</th>\n",
              "      <th>volume</th>\n",
              "      <th>begin</th>\n",
              "      <th>end</th>\n",
              "    </tr>\n",
              "  </thead>\n",
              "  <tbody>\n",
              "    <tr>\n",
              "      <th>0</th>\n",
              "      <td>48.07</td>\n",
              "      <td>48.43</td>\n",
              "      <td>48.65</td>\n",
              "      <td>47.42</td>\n",
              "      <td>8767126.7</td>\n",
              "      <td>181760.0</td>\n",
              "      <td>2013-04-04</td>\n",
              "      <td>2013-04-04 23:59:59</td>\n",
              "    </tr>\n",
              "    <tr>\n",
              "      <th>1</th>\n",
              "      <td>48.43</td>\n",
              "      <td>48.50</td>\n",
              "      <td>48.61</td>\n",
              "      <td>47.50</td>\n",
              "      <td>5964565.5</td>\n",
              "      <td>123940.0</td>\n",
              "      <td>2013-04-05</td>\n",
              "      <td>2013-04-05 23:59:59</td>\n",
              "    </tr>\n",
              "    <tr>\n",
              "      <th>2</th>\n",
              "      <td>48.67</td>\n",
              "      <td>47.52</td>\n",
              "      <td>48.88</td>\n",
              "      <td>47.50</td>\n",
              "      <td>5280065.5</td>\n",
              "      <td>110530.0</td>\n",
              "      <td>2013-04-08</td>\n",
              "      <td>2013-04-08 23:59:59</td>\n",
              "    </tr>\n",
              "    <tr>\n",
              "      <th>3</th>\n",
              "      <td>48.23</td>\n",
              "      <td>47.40</td>\n",
              "      <td>48.23</td>\n",
              "      <td>47.40</td>\n",
              "      <td>9993069.9</td>\n",
              "      <td>209980.0</td>\n",
              "      <td>2013-04-09</td>\n",
              "      <td>2013-04-09 23:59:59</td>\n",
              "    </tr>\n",
              "    <tr>\n",
              "      <th>4</th>\n",
              "      <td>48.00</td>\n",
              "      <td>46.87</td>\n",
              "      <td>48.00</td>\n",
              "      <td>46.75</td>\n",
              "      <td>20036515.1</td>\n",
              "      <td>424170.0</td>\n",
              "      <td>2013-04-10</td>\n",
              "      <td>2013-04-10 23:59:59</td>\n",
              "    </tr>\n",
              "  </tbody>\n",
              "</table>\n",
              "</div>"
            ],
            "text/plain": [
              "    open  close   high  ...    volume      begin                 end\n",
              "0  48.07  48.43  48.65  ...  181760.0 2013-04-04 2013-04-04 23:59:59\n",
              "1  48.43  48.50  48.61  ...  123940.0 2013-04-05 2013-04-05 23:59:59\n",
              "2  48.67  47.52  48.88  ...  110530.0 2013-04-08 2013-04-08 23:59:59\n",
              "3  48.23  47.40  48.23  ...  209980.0 2013-04-09 2013-04-09 23:59:59\n",
              "4  48.00  46.87  48.00  ...  424170.0 2013-04-10 2013-04-10 23:59:59\n",
              "\n",
              "[5 rows x 8 columns]"
            ]
          },
          "metadata": {
            "tags": []
          },
          "execution_count": 50
        }
      ]
    },
    {
      "cell_type": "code",
      "metadata": {
        "colab": {
          "base_uri": "https://localhost:8080/"
        },
        "id": "pokw5Af3vk2S",
        "outputId": "8c7b3124-43e6-4954-e896-99763c8c3d01"
      },
      "source": [
        "df.info()"
      ],
      "execution_count": 51,
      "outputs": [
        {
          "output_type": "stream",
          "text": [
            "<class 'pandas.core.frame.DataFrame'>\n",
            "RangeIndex: 500 entries, 0 to 499\n",
            "Data columns (total 8 columns):\n",
            " #   Column  Non-Null Count  Dtype         \n",
            "---  ------  --------------  -----         \n",
            " 0   open    500 non-null    float64       \n",
            " 1   close   500 non-null    float64       \n",
            " 2   high    500 non-null    float64       \n",
            " 3   low     500 non-null    float64       \n",
            " 4   value   500 non-null    float64       \n",
            " 5   volume  500 non-null    float64       \n",
            " 6   begin   500 non-null    datetime64[ns]\n",
            " 7   end     500 non-null    datetime64[ns]\n",
            "dtypes: datetime64[ns](2), float64(6)\n",
            "memory usage: 31.4 KB\n"
          ],
          "name": "stdout"
        }
      ]
    },
    {
      "cell_type": "code",
      "metadata": {
        "id": "5XTUAhpFwOsQ"
      },
      "source": [
        "import matplotlib.pyplot as plt"
      ],
      "execution_count": 52,
      "outputs": []
    },
    {
      "cell_type": "code",
      "metadata": {
        "colab": {
          "base_uri": "https://localhost:8080/",
          "height": 378
        },
        "id": "t20fT4rawRUe",
        "outputId": "66291f5a-473f-4703-8542-b6321e7a4bb7"
      },
      "source": [
        "fig, axes = plt.subplot_mosaic(\n",
        "    \"\"\"\n",
        "    AA\n",
        "    BB\n",
        "    \"\"\",\n",
        "    figsize=[16, 6]\n",
        ")"
      ],
      "execution_count": 53,
      "outputs": [
        {
          "output_type": "display_data",
          "data": {
            "image/png": "[encoded data removed]",
            "text/plain": [
              "<Figure size 1152x432 with 2 Axes>"
            ]
          },
          "metadata": {
            "tags": [],
            "needs_background": "light"
          }
        }
      ]
    },
    {
      "cell_type": "code",
      "metadata": {
        "colab": {
          "base_uri": "https://localhost:8080/"
        },
        "id": "KOivnbzYvv-J",
        "outputId": "a6b04c53-f605-453a-bc2c-92c6c4646dbd"
      },
      "source": [
        "df.set_index(\"begin\")[\"close\"].plot(ax=axes[\"A\"])\n",
        "df.set_index(\"begin\")[\"value\"].plot(ax=axes[\"B\"], color=\"red\")"
      ],
      "execution_count": 54,
      "outputs": [
        {
          "output_type": "execute_result",
          "data": {
            "text/plain": [
              "<AxesSubplot:label='B', xlabel='begin'>"
            ]
          },
          "metadata": {
            "tags": []
          },
          "execution_count": 54
        }
      ]
    },
    {
      "cell_type": "code",
      "metadata": {
        "colab": {
          "base_uri": "https://localhost:8080/",
          "height": 379
        },
        "id": "Rlb_WjlmxQxA",
        "outputId": "2e87c362-abfa-412d-8cb9-a202d636bb7e"
      },
      "source": [
        "fig"
      ],
      "execution_count": 55,
      "outputs": [
        {
          "output_type": "execute_result",
          "data": {
            "image/png": "[encoded data removed]",
            "text/plain": [
              "<Figure size 1152x432 with 2 Axes>"
            ]
          },
          "metadata": {
            "tags": []
          },
          "execution_count": 55
        }
      ]
    },
    {
      "cell_type": "code",
      "metadata": {
        "id": "Zadhu_4WzKcb"
      },
      "source": [
        ""
      ],
      "execution_count": null,
      "outputs": []
    },
    {
      "cell_type": "code",
      "metadata": {
        "id": "m_Qx9sbtzKfK"
      },
      "source": [
        ""
      ],
      "execution_count": null,
      "outputs": []
    }
  ]
}