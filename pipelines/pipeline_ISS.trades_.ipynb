{
 "cells": [
  {
   "cell_type": "code",
   "execution_count": 1,
   "metadata": {
    "collapsed": true
   },
   "outputs": [],
   "source": [
    "import pandas as pd\n",
    "import datetime\n",
    "import random\n",
    "import os\n",
    "import sys\n",
    "\n",
    "pd.set_option('display.max_rows', 500)\n",
    "pd.set_option('display.max_columns', 500)\n",
    "pd.set_option('display.width', 1000)\n",
    "\n",
    "nb_dir = os.path.split(os.getcwd())[0]\n",
    "if nb_dir not in sys.path:\n",
    "    sys.path.append(nb_dir)"
   ]
  },
  {
   "cell_type": "code",
   "execution_count": 2,
   "metadata": {},
   "outputs": [],
   "source": [
    "from ISS.trades import Trades"
   ]
  },
  {
   "cell_type": "code",
   "execution_count": 3,
   "metadata": {
    "collapsed": true
   },
   "outputs": [],
   "source": [
    "securityids = ['MOEX', 'SBER', 'AFKS', 'SU25081RMFS9']\n",
    "dt = datetime.date(2017, 9, 11)"
   ]
  },
  {
   "cell_type": "markdown",
   "metadata": {},
   "source": [
    "We can load trades for full market"
   ]
  },
  {
   "cell_type": "code",
   "execution_count": 4,
   "metadata": {},
   "outputs": [
    {
     "name": "stdout",
     "output_type": "stream",
     "text": [
      "------------------------------------------------------------------\n",
      "Trades (0 trades, 0 securityids, time: nan)\n",
      "engine: stock, market: shares, boardid: None, securityid: None\n",
      "------------------------------------------------------------------\n",
      "------------------------------------------------------------------\n",
      "Trades (458540 trades, 254 securityids, time: 2017-09-15 18:50:00)\n",
      "engine: stock, market: shares, boardid: None, securityid: None\n",
      "------------------------------------------------------------------\n",
      "CPU times: user 7.16 s, sys: 380 ms, total: 7.54 s\n",
      "Wall time: 2min 6s\n"
     ]
    }
   ],
   "source": [
    "%%time\n",
    "T = Trades(engine='stock', market='shares')\n",
    "print(T)\n",
    "T.load()\n",
    "print(T)"
   ]
  },
  {
   "cell_type": "code",
   "execution_count": 5,
   "metadata": {},
   "outputs": [
    {
     "data": {
      "text/html": [
       "<div>\n",
       "<style>\n",
       "    .dataframe thead tr:only-child th {\n",
       "        text-align: right;\n",
       "    }\n",
       "\n",
       "    .dataframe thead th {\n",
       "        text-align: left;\n",
       "    }\n",
       "\n",
       "    .dataframe tbody tr th {\n",
       "        vertical-align: top;\n",
       "    }\n",
       "</style>\n",
       "<table border=\"1\" class=\"dataframe\">\n",
       "  <thead>\n",
       "    <tr style=\"text-align: right;\">\n",
       "      <th></th>\n",
       "      <th>tradeno</th>\n",
       "      <th>tradetime</th>\n",
       "      <th>boardid</th>\n",
       "      <th>secid</th>\n",
       "      <th>price</th>\n",
       "      <th>quantity</th>\n",
       "      <th>value</th>\n",
       "      <th>period</th>\n",
       "      <th>tradetime_grp</th>\n",
       "      <th>systime</th>\n",
       "      <th>buysell</th>\n",
       "      <th>decimals</th>\n",
       "    </tr>\n",
       "  </thead>\n",
       "  <tbody>\n",
       "    <tr>\n",
       "      <th>0</th>\n",
       "      <td>2748066209</td>\n",
       "      <td>09:59:31</td>\n",
       "      <td>TQBR</td>\n",
       "      <td>BANE</td>\n",
       "      <td>1979.0</td>\n",
       "      <td>1</td>\n",
       "      <td>1979.0</td>\n",
       "      <td>S</td>\n",
       "      <td>959</td>\n",
       "      <td>2017-09-15 09:59:31</td>\n",
       "      <td>S</td>\n",
       "      <td>0</td>\n",
       "    </tr>\n",
       "    <tr>\n",
       "      <th>1</th>\n",
       "      <td>2748066210</td>\n",
       "      <td>09:59:31</td>\n",
       "      <td>TQBR</td>\n",
       "      <td>BANE</td>\n",
       "      <td>1979.0</td>\n",
       "      <td>4</td>\n",
       "      <td>7916.0</td>\n",
       "      <td>S</td>\n",
       "      <td>959</td>\n",
       "      <td>2017-09-15 09:59:31</td>\n",
       "      <td>S</td>\n",
       "      <td>0</td>\n",
       "    </tr>\n",
       "    <tr>\n",
       "      <th>2</th>\n",
       "      <td>2748066211</td>\n",
       "      <td>09:59:31</td>\n",
       "      <td>TQBR</td>\n",
       "      <td>BANE</td>\n",
       "      <td>1979.0</td>\n",
       "      <td>3</td>\n",
       "      <td>5937.0</td>\n",
       "      <td>S</td>\n",
       "      <td>959</td>\n",
       "      <td>2017-09-15 09:59:31</td>\n",
       "      <td>B</td>\n",
       "      <td>0</td>\n",
       "    </tr>\n",
       "    <tr>\n",
       "      <th>3</th>\n",
       "      <td>2748066212</td>\n",
       "      <td>09:59:31</td>\n",
       "      <td>TQBR</td>\n",
       "      <td>BANE</td>\n",
       "      <td>1979.0</td>\n",
       "      <td>1</td>\n",
       "      <td>1979.0</td>\n",
       "      <td>S</td>\n",
       "      <td>959</td>\n",
       "      <td>2017-09-15 09:59:31</td>\n",
       "      <td>S</td>\n",
       "      <td>0</td>\n",
       "    </tr>\n",
       "    <tr>\n",
       "      <th>4</th>\n",
       "      <td>2748066213</td>\n",
       "      <td>09:59:31</td>\n",
       "      <td>TQBR</td>\n",
       "      <td>BANE</td>\n",
       "      <td>1979.0</td>\n",
       "      <td>3</td>\n",
       "      <td>5937.0</td>\n",
       "      <td>S</td>\n",
       "      <td>959</td>\n",
       "      <td>2017-09-15 09:59:31</td>\n",
       "      <td>B</td>\n",
       "      <td>0</td>\n",
       "    </tr>\n",
       "  </tbody>\n",
       "</table>\n",
       "</div>"
      ],
      "text/plain": [
       "      tradeno tradetime boardid secid   price  quantity   value period  tradetime_grp             systime buysell  decimals\n",
       "0  2748066209  09:59:31    TQBR  BANE  1979.0         1  1979.0      S            959 2017-09-15 09:59:31       S         0\n",
       "1  2748066210  09:59:31    TQBR  BANE  1979.0         4  7916.0      S            959 2017-09-15 09:59:31       S         0\n",
       "2  2748066211  09:59:31    TQBR  BANE  1979.0         3  5937.0      S            959 2017-09-15 09:59:31       B         0\n",
       "3  2748066212  09:59:31    TQBR  BANE  1979.0         1  1979.0      S            959 2017-09-15 09:59:31       S         0\n",
       "4  2748066213  09:59:31    TQBR  BANE  1979.0         3  5937.0      S            959 2017-09-15 09:59:31       B         0"
      ]
     },
     "execution_count": 5,
     "metadata": {},
     "output_type": "execute_result"
    }
   ],
   "source": [
    "T.trades.head()"
   ]
  },
  {
   "cell_type": "markdown",
   "metadata": {},
   "source": [
    "Or we can load trades for specific securityid"
   ]
  },
  {
   "cell_type": "code",
   "execution_count": 6,
   "metadata": {},
   "outputs": [
    {
     "name": "stdout",
     "output_type": "stream",
     "text": [
      "------------------------------------------------------------------\n",
      "Trades (0 trades, 0 securityids, time: nan)\n",
      "engine: stock, market: shares, boardid: None, securityid: LKOH\n",
      "------------------------------------------------------------------\n",
      "------------------------------------------------------------------\n",
      "Trades (22450 trades, 1 securityids, time: 2017-09-15 18:49:54)\n",
      "engine: stock, market: shares, boardid: None, securityid: LKOH\n",
      "------------------------------------------------------------------\n",
      "CPU times: user 404 ms, sys: 20 ms, total: 424 ms\n",
      "Wall time: 5.9 s\n"
     ]
    }
   ],
   "source": [
    "%%time\n",
    "T = Trades(engine='stock', market='shares', securityid='LKOH')\n",
    "print(T)\n",
    "T.load()\n",
    "print(T)"
   ]
  },
  {
   "cell_type": "code",
   "execution_count": 8,
   "metadata": {},
   "outputs": [
    {
     "data": {
      "text/html": [
       "<div>\n",
       "<style>\n",
       "    .dataframe thead tr:only-child th {\n",
       "        text-align: right;\n",
       "    }\n",
       "\n",
       "    .dataframe thead th {\n",
       "        text-align: left;\n",
       "    }\n",
       "\n",
       "    .dataframe tbody tr th {\n",
       "        vertical-align: top;\n",
       "    }\n",
       "</style>\n",
       "<table border=\"1\" class=\"dataframe\">\n",
       "  <thead>\n",
       "    <tr style=\"text-align: right;\">\n",
       "      <th></th>\n",
       "      <th>tradeno</th>\n",
       "      <th>tradetime</th>\n",
       "      <th>boardid</th>\n",
       "      <th>secid</th>\n",
       "      <th>price</th>\n",
       "      <th>quantity</th>\n",
       "      <th>value</th>\n",
       "      <th>period</th>\n",
       "      <th>tradetime_grp</th>\n",
       "      <th>systime</th>\n",
       "      <th>buysell</th>\n",
       "      <th>decimals</th>\n",
       "    </tr>\n",
       "  </thead>\n",
       "  <tbody>\n",
       "    <tr>\n",
       "      <th>0</th>\n",
       "      <td>2748066337</td>\n",
       "      <td>09:59:41</td>\n",
       "      <td>TQBR</td>\n",
       "      <td>LKOH</td>\n",
       "      <td>2966.0</td>\n",
       "      <td>1</td>\n",
       "      <td>2966.0</td>\n",
       "      <td>S</td>\n",
       "      <td>959</td>\n",
       "      <td>2017-09-15 09:59:41</td>\n",
       "      <td>S</td>\n",
       "      <td>1</td>\n",
       "    </tr>\n",
       "    <tr>\n",
       "      <th>1</th>\n",
       "      <td>2748066338</td>\n",
       "      <td>09:59:41</td>\n",
       "      <td>TQBR</td>\n",
       "      <td>LKOH</td>\n",
       "      <td>2966.0</td>\n",
       "      <td>5</td>\n",
       "      <td>14830.0</td>\n",
       "      <td>S</td>\n",
       "      <td>959</td>\n",
       "      <td>2017-09-15 09:59:41</td>\n",
       "      <td>S</td>\n",
       "      <td>1</td>\n",
       "    </tr>\n",
       "    <tr>\n",
       "      <th>2</th>\n",
       "      <td>2748066339</td>\n",
       "      <td>09:59:41</td>\n",
       "      <td>TQBR</td>\n",
       "      <td>LKOH</td>\n",
       "      <td>2966.0</td>\n",
       "      <td>46</td>\n",
       "      <td>136436.0</td>\n",
       "      <td>S</td>\n",
       "      <td>959</td>\n",
       "      <td>2017-09-15 09:59:41</td>\n",
       "      <td>B</td>\n",
       "      <td>1</td>\n",
       "    </tr>\n",
       "    <tr>\n",
       "      <th>3</th>\n",
       "      <td>2748066340</td>\n",
       "      <td>09:59:41</td>\n",
       "      <td>TQBR</td>\n",
       "      <td>LKOH</td>\n",
       "      <td>2966.0</td>\n",
       "      <td>1</td>\n",
       "      <td>2966.0</td>\n",
       "      <td>S</td>\n",
       "      <td>959</td>\n",
       "      <td>2017-09-15 09:59:41</td>\n",
       "      <td>S</td>\n",
       "      <td>1</td>\n",
       "    </tr>\n",
       "    <tr>\n",
       "      <th>4</th>\n",
       "      <td>2748066341</td>\n",
       "      <td>09:59:41</td>\n",
       "      <td>TQBR</td>\n",
       "      <td>LKOH</td>\n",
       "      <td>2966.0</td>\n",
       "      <td>1</td>\n",
       "      <td>2966.0</td>\n",
       "      <td>S</td>\n",
       "      <td>959</td>\n",
       "      <td>2017-09-15 09:59:41</td>\n",
       "      <td>B</td>\n",
       "      <td>1</td>\n",
       "    </tr>\n",
       "  </tbody>\n",
       "</table>\n",
       "</div>"
      ],
      "text/plain": [
       "      tradeno tradetime boardid secid   price  quantity     value period  tradetime_grp             systime buysell  decimals\n",
       "0  2748066337  09:59:41    TQBR  LKOH  2966.0         1    2966.0      S            959 2017-09-15 09:59:41       S         1\n",
       "1  2748066338  09:59:41    TQBR  LKOH  2966.0         5   14830.0      S            959 2017-09-15 09:59:41       S         1\n",
       "2  2748066339  09:59:41    TQBR  LKOH  2966.0        46  136436.0      S            959 2017-09-15 09:59:41       B         1\n",
       "3  2748066340  09:59:41    TQBR  LKOH  2966.0         1    2966.0      S            959 2017-09-15 09:59:41       S         1\n",
       "4  2748066341  09:59:41    TQBR  LKOH  2966.0         1    2966.0      S            959 2017-09-15 09:59:41       B         1"
      ]
     },
     "execution_count": 8,
     "metadata": {},
     "output_type": "execute_result"
    }
   ],
   "source": [
    "T.trades.head()"
   ]
  },
  {
   "cell_type": "markdown",
   "metadata": {},
   "source": [
    "We even can specify boardid, but separatedly (without securityid)"
   ]
  },
  {
   "cell_type": "code",
   "execution_count": 9,
   "metadata": {},
   "outputs": [
    {
     "name": "stdout",
     "output_type": "stream",
     "text": [
      "------------------------------------------------------------------\n",
      "Trades (0 trades, 0 securityids, time: nan)\n",
      "engine: stock, market: shares, boardid: TQBR, securityid: None\n",
      "------------------------------------------------------------------\n",
      "------------------------------------------------------------------\n",
      "Trades (449046 trades, 227 securityids, time: 2017-09-15 18:50:00)\n",
      "engine: stock, market: shares, boardid: TQBR, securityid: None\n",
      "------------------------------------------------------------------\n",
      "CPU times: user 7.06 s, sys: 364 ms, total: 7.43 s\n",
      "Wall time: 2min 3s\n"
     ]
    }
   ],
   "source": [
    "%%time\n",
    "T = Trades(engine='stock', market='shares', boardid='TQBR')\n",
    "print(T)\n",
    "T.load()\n",
    "print(T)"
   ]
  },
  {
   "cell_type": "code",
   "execution_count": 10,
   "metadata": {},
   "outputs": [
    {
     "data": {
      "text/html": [
       "<div>\n",
       "<style>\n",
       "    .dataframe thead tr:only-child th {\n",
       "        text-align: right;\n",
       "    }\n",
       "\n",
       "    .dataframe thead th {\n",
       "        text-align: left;\n",
       "    }\n",
       "\n",
       "    .dataframe tbody tr th {\n",
       "        vertical-align: top;\n",
       "    }\n",
       "</style>\n",
       "<table border=\"1\" class=\"dataframe\">\n",
       "  <thead>\n",
       "    <tr style=\"text-align: right;\">\n",
       "      <th></th>\n",
       "      <th>tradeno</th>\n",
       "      <th>tradetime</th>\n",
       "      <th>boardid</th>\n",
       "      <th>secid</th>\n",
       "      <th>price</th>\n",
       "      <th>quantity</th>\n",
       "      <th>value</th>\n",
       "      <th>period</th>\n",
       "      <th>tradetime_grp</th>\n",
       "      <th>systime</th>\n",
       "      <th>buysell</th>\n",
       "      <th>decimals</th>\n",
       "    </tr>\n",
       "  </thead>\n",
       "  <tbody>\n",
       "    <tr>\n",
       "      <th>0</th>\n",
       "      <td>2748066209</td>\n",
       "      <td>09:59:31</td>\n",
       "      <td>TQBR</td>\n",
       "      <td>BANE</td>\n",
       "      <td>1979.0</td>\n",
       "      <td>1</td>\n",
       "      <td>1979.0</td>\n",
       "      <td>S</td>\n",
       "      <td>959</td>\n",
       "      <td>2017-09-15 09:59:31</td>\n",
       "      <td>S</td>\n",
       "      <td>0</td>\n",
       "    </tr>\n",
       "    <tr>\n",
       "      <th>1</th>\n",
       "      <td>2748066210</td>\n",
       "      <td>09:59:31</td>\n",
       "      <td>TQBR</td>\n",
       "      <td>BANE</td>\n",
       "      <td>1979.0</td>\n",
       "      <td>4</td>\n",
       "      <td>7916.0</td>\n",
       "      <td>S</td>\n",
       "      <td>959</td>\n",
       "      <td>2017-09-15 09:59:31</td>\n",
       "      <td>S</td>\n",
       "      <td>0</td>\n",
       "    </tr>\n",
       "    <tr>\n",
       "      <th>2</th>\n",
       "      <td>2748066211</td>\n",
       "      <td>09:59:31</td>\n",
       "      <td>TQBR</td>\n",
       "      <td>BANE</td>\n",
       "      <td>1979.0</td>\n",
       "      <td>3</td>\n",
       "      <td>5937.0</td>\n",
       "      <td>S</td>\n",
       "      <td>959</td>\n",
       "      <td>2017-09-15 09:59:31</td>\n",
       "      <td>B</td>\n",
       "      <td>0</td>\n",
       "    </tr>\n",
       "    <tr>\n",
       "      <th>3</th>\n",
       "      <td>2748066212</td>\n",
       "      <td>09:59:31</td>\n",
       "      <td>TQBR</td>\n",
       "      <td>BANE</td>\n",
       "      <td>1979.0</td>\n",
       "      <td>1</td>\n",
       "      <td>1979.0</td>\n",
       "      <td>S</td>\n",
       "      <td>959</td>\n",
       "      <td>2017-09-15 09:59:31</td>\n",
       "      <td>S</td>\n",
       "      <td>0</td>\n",
       "    </tr>\n",
       "    <tr>\n",
       "      <th>4</th>\n",
       "      <td>2748066213</td>\n",
       "      <td>09:59:31</td>\n",
       "      <td>TQBR</td>\n",
       "      <td>BANE</td>\n",
       "      <td>1979.0</td>\n",
       "      <td>3</td>\n",
       "      <td>5937.0</td>\n",
       "      <td>S</td>\n",
       "      <td>959</td>\n",
       "      <td>2017-09-15 09:59:31</td>\n",
       "      <td>B</td>\n",
       "      <td>0</td>\n",
       "    </tr>\n",
       "  </tbody>\n",
       "</table>\n",
       "</div>"
      ],
      "text/plain": [
       "      tradeno tradetime boardid secid   price  quantity   value period  tradetime_grp             systime buysell  decimals\n",
       "0  2748066209  09:59:31    TQBR  BANE  1979.0         1  1979.0      S            959 2017-09-15 09:59:31       S         0\n",
       "1  2748066210  09:59:31    TQBR  BANE  1979.0         4  7916.0      S            959 2017-09-15 09:59:31       S         0\n",
       "2  2748066211  09:59:31    TQBR  BANE  1979.0         3  5937.0      S            959 2017-09-15 09:59:31       B         0\n",
       "3  2748066212  09:59:31    TQBR  BANE  1979.0         1  1979.0      S            959 2017-09-15 09:59:31       S         0\n",
       "4  2748066213  09:59:31    TQBR  BANE  1979.0         3  5937.0      S            959 2017-09-15 09:59:31       B         0"
      ]
     },
     "execution_count": 10,
     "metadata": {},
     "output_type": "execute_result"
    }
   ],
   "source": [
    "T.trades.head()"
   ]
  },
  {
   "cell_type": "markdown",
   "metadata": {},
   "source": [
    "We can make a plots"
   ]
  },
  {
   "cell_type": "code",
   "execution_count": 11,
   "metadata": {
    "collapsed": true
   },
   "outputs": [],
   "source": [
    "import matplotlib.pyplot as plt\n",
    "from ISS.plots import tradesplot"
   ]
  },
  {
   "cell_type": "code",
   "execution_count": 14,
   "metadata": {},
   "outputs": [
    {
     "name": "stdout",
     "output_type": "stream",
     "text": [
      "------------------------------------------------------------------\n",
      "Trades (0 trades, 0 securityids, time: nan)\n",
      "engine: stock, market: shares, boardid: None, securityid: MOEX\n",
      "------------------------------------------------------------------\n",
      "------------------------------------------------------------------\n",
      "Trades (22315 trades, 1 securityids, time: 2017-09-15 18:48:10)\n",
      "engine: stock, market: shares, boardid: None, securityid: MOEX\n",
      "------------------------------------------------------------------\n",
      "CPU times: user 360 ms, sys: 24 ms, total: 384 ms\n",
      "Wall time: 6.1 s\n"
     ]
    }
   ],
   "source": [
    "%%time\n",
    "T = Trades(engine='stock', market='shares', securityid='MOEX')\n",
    "print(T)\n",
    "T.load()\n",
    "print(T)"
   ]
  },
  {
   "cell_type": "code",
   "execution_count": 15,
   "metadata": {},
   "outputs": [
    {
     "data": {
      "image/png": "[encoded data removed]",
      "text/plain": [
       "<matplotlib.figure.Figure at 0x7f7a1f4939e8>"
      ]
     },
     "metadata": {},
     "output_type": "display_data"
    }
   ],
   "source": [
    "fig, [ax1, ax2] = tradesplot(T.trades, T.securityid)\n",
    "plt.show()"
   ]
  },
  {
   "cell_type": "code",
   "execution_count": 16,
   "metadata": {},
   "outputs": [
    {
     "data": {
      "text/html": [
       "<div>\n",
       "<style>\n",
       "    .dataframe thead tr:only-child th {\n",
       "        text-align: right;\n",
       "    }\n",
       "\n",
       "    .dataframe thead th {\n",
       "        text-align: left;\n",
       "    }\n",
       "\n",
       "    .dataframe tbody tr th {\n",
       "        vertical-align: top;\n",
       "    }\n",
       "</style>\n",
       "<table border=\"1\" class=\"dataframe\">\n",
       "  <thead>\n",
       "    <tr style=\"text-align: right;\">\n",
       "      <th></th>\n",
       "      <th>tradeno</th>\n",
       "      <th>tradetime</th>\n",
       "      <th>boardid</th>\n",
       "      <th>secid</th>\n",
       "      <th>price</th>\n",
       "      <th>quantity</th>\n",
       "      <th>value</th>\n",
       "      <th>period</th>\n",
       "      <th>tradetime_grp</th>\n",
       "      <th>systime</th>\n",
       "      <th>buysell</th>\n",
       "      <th>decimals</th>\n",
       "    </tr>\n",
       "  </thead>\n",
       "  <tbody>\n",
       "    <tr>\n",
       "      <th>0</th>\n",
       "      <td>2748066668</td>\n",
       "      <td>09:59:54</td>\n",
       "      <td>TQBR</td>\n",
       "      <td>MOEX</td>\n",
       "      <td>113.2</td>\n",
       "      <td>2</td>\n",
       "      <td>2264.0</td>\n",
       "      <td>S</td>\n",
       "      <td>959</td>\n",
       "      <td>2017-09-15 09:59:54</td>\n",
       "      <td>B</td>\n",
       "      <td>2</td>\n",
       "    </tr>\n",
       "    <tr>\n",
       "      <th>1</th>\n",
       "      <td>2748066669</td>\n",
       "      <td>09:59:54</td>\n",
       "      <td>TQBR</td>\n",
       "      <td>MOEX</td>\n",
       "      <td>113.2</td>\n",
       "      <td>5</td>\n",
       "      <td>5660.0</td>\n",
       "      <td>S</td>\n",
       "      <td>959</td>\n",
       "      <td>2017-09-15 09:59:54</td>\n",
       "      <td>B</td>\n",
       "      <td>2</td>\n",
       "    </tr>\n",
       "    <tr>\n",
       "      <th>2</th>\n",
       "      <td>2748066670</td>\n",
       "      <td>09:59:54</td>\n",
       "      <td>TQBR</td>\n",
       "      <td>MOEX</td>\n",
       "      <td>113.2</td>\n",
       "      <td>20</td>\n",
       "      <td>22640.0</td>\n",
       "      <td>S</td>\n",
       "      <td>959</td>\n",
       "      <td>2017-09-15 09:59:54</td>\n",
       "      <td>B</td>\n",
       "      <td>2</td>\n",
       "    </tr>\n",
       "    <tr>\n",
       "      <th>3</th>\n",
       "      <td>2748066671</td>\n",
       "      <td>09:59:54</td>\n",
       "      <td>TQBR</td>\n",
       "      <td>MOEX</td>\n",
       "      <td>113.2</td>\n",
       "      <td>80</td>\n",
       "      <td>90560.0</td>\n",
       "      <td>S</td>\n",
       "      <td>959</td>\n",
       "      <td>2017-09-15 09:59:54</td>\n",
       "      <td>S</td>\n",
       "      <td>2</td>\n",
       "    </tr>\n",
       "    <tr>\n",
       "      <th>4</th>\n",
       "      <td>2748066672</td>\n",
       "      <td>09:59:54</td>\n",
       "      <td>TQBR</td>\n",
       "      <td>MOEX</td>\n",
       "      <td>113.2</td>\n",
       "      <td>19</td>\n",
       "      <td>21508.0</td>\n",
       "      <td>S</td>\n",
       "      <td>959</td>\n",
       "      <td>2017-09-15 09:59:54</td>\n",
       "      <td>B</td>\n",
       "      <td>2</td>\n",
       "    </tr>\n",
       "  </tbody>\n",
       "</table>\n",
       "</div>"
      ],
      "text/plain": [
       "      tradeno tradetime boardid secid  price  quantity    value period  tradetime_grp             systime buysell  decimals\n",
       "0  2748066668  09:59:54    TQBR  MOEX  113.2         2   2264.0      S            959 2017-09-15 09:59:54       B         2\n",
       "1  2748066669  09:59:54    TQBR  MOEX  113.2         5   5660.0      S            959 2017-09-15 09:59:54       B         2\n",
       "2  2748066670  09:59:54    TQBR  MOEX  113.2        20  22640.0      S            959 2017-09-15 09:59:54       B         2\n",
       "3  2748066671  09:59:54    TQBR  MOEX  113.2        80  90560.0      S            959 2017-09-15 09:59:54       S         2\n",
       "4  2748066672  09:59:54    TQBR  MOEX  113.2        19  21508.0      S            959 2017-09-15 09:59:54       B         2"
      ]
     },
     "execution_count": 16,
     "metadata": {},
     "output_type": "execute_result"
    }
   ],
   "source": [
    "t = T.trades\n",
    "t.head()"
   ]
  },
  {
   "cell_type": "code",
   "execution_count": 18,
   "metadata": {},
   "outputs": [
    {
     "data": {
      "text/plain": [
       "(113.89397867498549, 114.08, 113.84186466502993)"
      ]
     },
     "execution_count": 18,
     "metadata": {},
     "output_type": "execute_result"
    }
   ],
   "source": [
    "(t['price']*t['quantity']).sum()/t['quantity'].sum(), t['price'].median(), t['price'].mean()"
   ]
  },
  {
   "cell_type": "code",
   "execution_count": 20,
   "metadata": {},
   "outputs": [
    {
     "data": {
      "image/png": "[encoded data removed]",
      "text/plain": [
       "<matplotlib.figure.Figure at 0x7f7a1ec83cf8>"
      ]
     },
     "metadata": {},
     "output_type": "display_data"
    }
   ],
   "source": [
    "import seaborn as sns\n",
    "sns.distplot(t['price'])\n",
    "plt.show()"
   ]
  },
  {
   "cell_type": "code",
   "execution_count": 24,
   "metadata": {},
   "outputs": [
    {
     "data": {
      "image/png": "[encoded data removed]",
      "text/plain": [
       "<matplotlib.figure.Figure at 0x7f7a1da43cc0>"
      ]
     },
     "metadata": {},
     "output_type": "display_data"
    }
   ],
   "source": [
    "import numpy as np\n",
    "sns.distplot(np.log1p(t['quantity']))\n",
    "plt.show()"
   ]
  }
 ],
 "metadata": {
  "anaconda-cloud": {},
  "kernelspec": {
   "display_name": "Python 3",
   "language": "python",
   "name": "python3"
  },
  "language_info": {
   "codemirror_mode": {
    "name": "ipython",
    "version": 3
   },
   "file_extension": ".py",
   "mimetype": "text/x-python",
   "name": "python",
   "nbconvert_exporter": "python",
   "pygments_lexer": "ipython3",
   "version": "3.6.1"
  }
 },
 "nbformat": 4,
 "nbformat_minor": 1
}
