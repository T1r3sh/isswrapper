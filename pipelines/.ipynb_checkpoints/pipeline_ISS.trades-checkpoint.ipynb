{
 "cells": [
  {
   "cell_type": "code",
   "execution_count": 1,
   "metadata": {
    "collapsed": true
   },
   "outputs": [],
   "source": [
    "import pandas as pd\n",
    "import datetime\n",
    "import random\n",
    "import os\n",
    "import sys\n",
    "\n",
    "pd.set_option('display.max_rows', 500)\n",
    "pd.set_option('display.max_columns', 500)\n",
    "pd.set_option('display.width', 1000)\n",
    "\n",
    "nb_dir = os.path.split(os.getcwd())[0]\n",
    "if nb_dir not in sys.path:\n",
    "    sys.path.append(nb_dir)"
   ]
  },
  {
   "cell_type": "code",
   "execution_count": 2,
   "metadata": {
    "collapsed": false
   },
   "outputs": [],
   "source": [
    "from ISS.trades import Trades"
   ]
  },
  {
   "cell_type": "code",
   "execution_count": 3,
   "metadata": {
    "collapsed": true
   },
   "outputs": [],
   "source": [
    "securityids = ['MOEX', 'SBER', 'AFKS', 'SU25081RMFS9']\n",
    "dt = datetime.date(2017, 9, 11)"
   ]
  },
  {
   "cell_type": "markdown",
   "metadata": {},
   "source": [
    "We can load trades for full market"
   ]
  },
  {
   "cell_type": "code",
   "execution_count": 4,
   "metadata": {
    "collapsed": false
   },
   "outputs": [
    {
     "name": "stdout",
     "output_type": "stream",
     "text": [
      "------------------------------------------------------------------\n",
      "Trades (0 trades, 0 securityids, time: nan)\n",
      "engine: stock, market: shares, boardid: None, securityid: None\n",
      "------------------------------------------------------------------\n",
      "------------------------------------------------------------------\n",
      "Trades (352672 trades, 250 securityids, time: 2017-09-15 17:19:22)\n",
      "engine: stock, market: shares, boardid: None, securityid: None\n",
      "------------------------------------------------------------------\n",
      "Wall time: 1min 16s\n"
     ]
    }
   ],
   "source": [
    "%%time\n",
    "T = Trades(engine='stock', market='shares')\n",
    "print(T)\n",
    "T.load()\n",
    "print(T)"
   ]
  },
  {
   "cell_type": "code",
   "execution_count": 5,
   "metadata": {
    "collapsed": false
   },
   "outputs": [
    {
     "data": {
      "text/html": [
       "<div>\n",
       "<table border=\"1\" class=\"dataframe\">\n",
       "  <thead>\n",
       "    <tr style=\"text-align: right;\">\n",
       "      <th></th>\n",
       "      <th>tradeno</th>\n",
       "      <th>tradetime</th>\n",
       "      <th>boardid</th>\n",
       "      <th>secid</th>\n",
       "      <th>price</th>\n",
       "      <th>quantity</th>\n",
       "      <th>value</th>\n",
       "      <th>period</th>\n",
       "      <th>tradetime_grp</th>\n",
       "      <th>systime</th>\n",
       "      <th>buysell</th>\n",
       "      <th>decimals</th>\n",
       "    </tr>\n",
       "  </thead>\n",
       "  <tbody>\n",
       "    <tr>\n",
       "      <th>0</th>\n",
       "      <td>2748066209</td>\n",
       "      <td>09:59:31</td>\n",
       "      <td>TQBR</td>\n",
       "      <td>BANE</td>\n",
       "      <td>1979.0</td>\n",
       "      <td>1</td>\n",
       "      <td>1979.0</td>\n",
       "      <td>S</td>\n",
       "      <td>959</td>\n",
       "      <td>2017-09-15 09:59:31</td>\n",
       "      <td>S</td>\n",
       "      <td>0</td>\n",
       "    </tr>\n",
       "    <tr>\n",
       "      <th>1</th>\n",
       "      <td>2748066210</td>\n",
       "      <td>09:59:31</td>\n",
       "      <td>TQBR</td>\n",
       "      <td>BANE</td>\n",
       "      <td>1979.0</td>\n",
       "      <td>4</td>\n",
       "      <td>7916.0</td>\n",
       "      <td>S</td>\n",
       "      <td>959</td>\n",
       "      <td>2017-09-15 09:59:31</td>\n",
       "      <td>S</td>\n",
       "      <td>0</td>\n",
       "    </tr>\n",
       "    <tr>\n",
       "      <th>2</th>\n",
       "      <td>2748066211</td>\n",
       "      <td>09:59:31</td>\n",
       "      <td>TQBR</td>\n",
       "      <td>BANE</td>\n",
       "      <td>1979.0</td>\n",
       "      <td>3</td>\n",
       "      <td>5937.0</td>\n",
       "      <td>S</td>\n",
       "      <td>959</td>\n",
       "      <td>2017-09-15 09:59:31</td>\n",
       "      <td>B</td>\n",
       "      <td>0</td>\n",
       "    </tr>\n",
       "    <tr>\n",
       "      <th>3</th>\n",
       "      <td>2748066212</td>\n",
       "      <td>09:59:31</td>\n",
       "      <td>TQBR</td>\n",
       "      <td>BANE</td>\n",
       "      <td>1979.0</td>\n",
       "      <td>1</td>\n",
       "      <td>1979.0</td>\n",
       "      <td>S</td>\n",
       "      <td>959</td>\n",
       "      <td>2017-09-15 09:59:31</td>\n",
       "      <td>S</td>\n",
       "      <td>0</td>\n",
       "    </tr>\n",
       "    <tr>\n",
       "      <th>4</th>\n",
       "      <td>2748066213</td>\n",
       "      <td>09:59:31</td>\n",
       "      <td>TQBR</td>\n",
       "      <td>BANE</td>\n",
       "      <td>1979.0</td>\n",
       "      <td>3</td>\n",
       "      <td>5937.0</td>\n",
       "      <td>S</td>\n",
       "      <td>959</td>\n",
       "      <td>2017-09-15 09:59:31</td>\n",
       "      <td>B</td>\n",
       "      <td>0</td>\n",
       "    </tr>\n",
       "  </tbody>\n",
       "</table>\n",
       "</div>"
      ],
      "text/plain": [
       "      tradeno tradetime boardid secid   price  quantity   value period  tradetime_grp             systime buysell  decimals\n",
       "0  2748066209  09:59:31    TQBR  BANE  1979.0         1  1979.0      S            959 2017-09-15 09:59:31       S         0\n",
       "1  2748066210  09:59:31    TQBR  BANE  1979.0         4  7916.0      S            959 2017-09-15 09:59:31       S         0\n",
       "2  2748066211  09:59:31    TQBR  BANE  1979.0         3  5937.0      S            959 2017-09-15 09:59:31       B         0\n",
       "3  2748066212  09:59:31    TQBR  BANE  1979.0         1  1979.0      S            959 2017-09-15 09:59:31       S         0\n",
       "4  2748066213  09:59:31    TQBR  BANE  1979.0         3  5937.0      S            959 2017-09-15 09:59:31       B         0"
      ]
     },
     "execution_count": 5,
     "metadata": {},
     "output_type": "execute_result"
    }
   ],
   "source": [
    "T.trades.head()"
   ]
  },
  {
   "cell_type": "markdown",
   "metadata": {},
   "source": [
    "Or we can load trades for specific securityid"
   ]
  },
  {
   "cell_type": "code",
   "execution_count": 6,
   "metadata": {
    "collapsed": false
   },
   "outputs": [
    {
     "name": "stdout",
     "output_type": "stream",
     "text": [
      "------------------------------------------------------------------\n",
      "Trades (0 trades, 0 securityids, time: nan)\n",
      "engine: stock, market: shares, boardid: None, securityid: LKOH\n",
      "------------------------------------------------------------------\n",
      "------------------------------------------------------------------\n",
      "Trades (17798 trades, 1 securityids, time: 2017-09-15 17:19:25)\n",
      "engine: stock, market: shares, boardid: None, securityid: LKOH\n",
      "------------------------------------------------------------------\n",
      "Wall time: 3.65 s\n"
     ]
    }
   ],
   "source": [
    "%%time\n",
    "T = Trades(engine='stock', market='shares', securityid='LKOH')\n",
    "print(T)\n",
    "T.load()\n",
    "print(T)"
   ]
  },
  {
   "cell_type": "code",
   "execution_count": 7,
   "metadata": {
    "collapsed": false
   },
   "outputs": [
    {
     "data": {
      "text/html": [
       "<div>\n",
       "<table border=\"1\" class=\"dataframe\">\n",
       "  <thead>\n",
       "    <tr style=\"text-align: right;\">\n",
       "      <th></th>\n",
       "      <th>tradeno</th>\n",
       "      <th>tradetime</th>\n",
       "      <th>boardid</th>\n",
       "      <th>secid</th>\n",
       "      <th>price</th>\n",
       "      <th>quantity</th>\n",
       "      <th>value</th>\n",
       "      <th>period</th>\n",
       "      <th>tradetime_grp</th>\n",
       "      <th>systime</th>\n",
       "      <th>buysell</th>\n",
       "      <th>decimals</th>\n",
       "    </tr>\n",
       "  </thead>\n",
       "  <tbody>\n",
       "    <tr>\n",
       "      <th>0</th>\n",
       "      <td>2748066337</td>\n",
       "      <td>09:59:41</td>\n",
       "      <td>TQBR</td>\n",
       "      <td>LKOH</td>\n",
       "      <td>2966.0</td>\n",
       "      <td>1</td>\n",
       "      <td>2966.0</td>\n",
       "      <td>S</td>\n",
       "      <td>959</td>\n",
       "      <td>2017-09-15 09:59:41</td>\n",
       "      <td>S</td>\n",
       "      <td>1</td>\n",
       "    </tr>\n",
       "    <tr>\n",
       "      <th>1</th>\n",
       "      <td>2748066338</td>\n",
       "      <td>09:59:41</td>\n",
       "      <td>TQBR</td>\n",
       "      <td>LKOH</td>\n",
       "      <td>2966.0</td>\n",
       "      <td>5</td>\n",
       "      <td>14830.0</td>\n",
       "      <td>S</td>\n",
       "      <td>959</td>\n",
       "      <td>2017-09-15 09:59:41</td>\n",
       "      <td>S</td>\n",
       "      <td>1</td>\n",
       "    </tr>\n",
       "    <tr>\n",
       "      <th>2</th>\n",
       "      <td>2748066339</td>\n",
       "      <td>09:59:41</td>\n",
       "      <td>TQBR</td>\n",
       "      <td>LKOH</td>\n",
       "      <td>2966.0</td>\n",
       "      <td>46</td>\n",
       "      <td>136436.0</td>\n",
       "      <td>S</td>\n",
       "      <td>959</td>\n",
       "      <td>2017-09-15 09:59:41</td>\n",
       "      <td>B</td>\n",
       "      <td>1</td>\n",
       "    </tr>\n",
       "    <tr>\n",
       "      <th>3</th>\n",
       "      <td>2748066340</td>\n",
       "      <td>09:59:41</td>\n",
       "      <td>TQBR</td>\n",
       "      <td>LKOH</td>\n",
       "      <td>2966.0</td>\n",
       "      <td>1</td>\n",
       "      <td>2966.0</td>\n",
       "      <td>S</td>\n",
       "      <td>959</td>\n",
       "      <td>2017-09-15 09:59:41</td>\n",
       "      <td>S</td>\n",
       "      <td>1</td>\n",
       "    </tr>\n",
       "    <tr>\n",
       "      <th>4</th>\n",
       "      <td>2748066341</td>\n",
       "      <td>09:59:41</td>\n",
       "      <td>TQBR</td>\n",
       "      <td>LKOH</td>\n",
       "      <td>2966.0</td>\n",
       "      <td>1</td>\n",
       "      <td>2966.0</td>\n",
       "      <td>S</td>\n",
       "      <td>959</td>\n",
       "      <td>2017-09-15 09:59:41</td>\n",
       "      <td>B</td>\n",
       "      <td>1</td>\n",
       "    </tr>\n",
       "  </tbody>\n",
       "</table>\n",
       "</div>"
      ],
      "text/plain": [
       "      tradeno tradetime boardid secid   price  quantity     value period  tradetime_grp             systime buysell  decimals\n",
       "0  2748066337  09:59:41    TQBR  LKOH  2966.0         1    2966.0      S            959 2017-09-15 09:59:41       S         1\n",
       "1  2748066338  09:59:41    TQBR  LKOH  2966.0         5   14830.0      S            959 2017-09-15 09:59:41       S         1\n",
       "2  2748066339  09:59:41    TQBR  LKOH  2966.0        46  136436.0      S            959 2017-09-15 09:59:41       B         1\n",
       "3  2748066340  09:59:41    TQBR  LKOH  2966.0         1    2966.0      S            959 2017-09-15 09:59:41       S         1\n",
       "4  2748066341  09:59:41    TQBR  LKOH  2966.0         1    2966.0      S            959 2017-09-15 09:59:41       B         1"
      ]
     },
     "execution_count": 7,
     "metadata": {},
     "output_type": "execute_result"
    }
   ],
   "source": [
    "T.trades.head()"
   ]
  },
  {
   "cell_type": "markdown",
   "metadata": {},
   "source": [
    "We even can specify boardid, but separatedly (without securityid)"
   ]
  },
  {
   "cell_type": "code",
   "execution_count": 8,
   "metadata": {
    "collapsed": false
   },
   "outputs": [
    {
     "name": "stdout",
     "output_type": "stream",
     "text": [
      "------------------------------------------------------------------\n",
      "Trades (0 trades, 0 securityids, time: nan)\n",
      "engine: stock, market: shares, boardid: TQBR, securityid: None\n",
      "------------------------------------------------------------------\n",
      "------------------------------------------------------------------\n",
      "Trades (345771 trades, 223 securityids, time: 2017-09-15 17:20:40)\n",
      "engine: stock, market: shares, boardid: TQBR, securityid: None\n",
      "------------------------------------------------------------------\n",
      "Wall time: 1min 13s\n"
     ]
    }
   ],
   "source": [
    "%%time\n",
    "T = Trades(engine='stock', market='shares', boardid='TQBR')\n",
    "print(T)\n",
    "T.load()\n",
    "print(T)"
   ]
  },
  {
   "cell_type": "code",
   "execution_count": 9,
   "metadata": {
    "collapsed": false
   },
   "outputs": [
    {
     "data": {
      "text/html": [
       "<div>\n",
       "<table border=\"1\" class=\"dataframe\">\n",
       "  <thead>\n",
       "    <tr style=\"text-align: right;\">\n",
       "      <th></th>\n",
       "      <th>tradeno</th>\n",
       "      <th>tradetime</th>\n",
       "      <th>boardid</th>\n",
       "      <th>secid</th>\n",
       "      <th>price</th>\n",
       "      <th>quantity</th>\n",
       "      <th>value</th>\n",
       "      <th>period</th>\n",
       "      <th>tradetime_grp</th>\n",
       "      <th>systime</th>\n",
       "      <th>buysell</th>\n",
       "      <th>decimals</th>\n",
       "    </tr>\n",
       "  </thead>\n",
       "  <tbody>\n",
       "    <tr>\n",
       "      <th>0</th>\n",
       "      <td>2748066209</td>\n",
       "      <td>09:59:31</td>\n",
       "      <td>TQBR</td>\n",
       "      <td>BANE</td>\n",
       "      <td>1979.0</td>\n",
       "      <td>1</td>\n",
       "      <td>1979.0</td>\n",
       "      <td>S</td>\n",
       "      <td>959</td>\n",
       "      <td>2017-09-15 09:59:31</td>\n",
       "      <td>S</td>\n",
       "      <td>0</td>\n",
       "    </tr>\n",
       "    <tr>\n",
       "      <th>1</th>\n",
       "      <td>2748066210</td>\n",
       "      <td>09:59:31</td>\n",
       "      <td>TQBR</td>\n",
       "      <td>BANE</td>\n",
       "      <td>1979.0</td>\n",
       "      <td>4</td>\n",
       "      <td>7916.0</td>\n",
       "      <td>S</td>\n",
       "      <td>959</td>\n",
       "      <td>2017-09-15 09:59:31</td>\n",
       "      <td>S</td>\n",
       "      <td>0</td>\n",
       "    </tr>\n",
       "    <tr>\n",
       "      <th>2</th>\n",
       "      <td>2748066211</td>\n",
       "      <td>09:59:31</td>\n",
       "      <td>TQBR</td>\n",
       "      <td>BANE</td>\n",
       "      <td>1979.0</td>\n",
       "      <td>3</td>\n",
       "      <td>5937.0</td>\n",
       "      <td>S</td>\n",
       "      <td>959</td>\n",
       "      <td>2017-09-15 09:59:31</td>\n",
       "      <td>B</td>\n",
       "      <td>0</td>\n",
       "    </tr>\n",
       "    <tr>\n",
       "      <th>3</th>\n",
       "      <td>2748066212</td>\n",
       "      <td>09:59:31</td>\n",
       "      <td>TQBR</td>\n",
       "      <td>BANE</td>\n",
       "      <td>1979.0</td>\n",
       "      <td>1</td>\n",
       "      <td>1979.0</td>\n",
       "      <td>S</td>\n",
       "      <td>959</td>\n",
       "      <td>2017-09-15 09:59:31</td>\n",
       "      <td>S</td>\n",
       "      <td>0</td>\n",
       "    </tr>\n",
       "    <tr>\n",
       "      <th>4</th>\n",
       "      <td>2748066213</td>\n",
       "      <td>09:59:31</td>\n",
       "      <td>TQBR</td>\n",
       "      <td>BANE</td>\n",
       "      <td>1979.0</td>\n",
       "      <td>3</td>\n",
       "      <td>5937.0</td>\n",
       "      <td>S</td>\n",
       "      <td>959</td>\n",
       "      <td>2017-09-15 09:59:31</td>\n",
       "      <td>B</td>\n",
       "      <td>0</td>\n",
       "    </tr>\n",
       "  </tbody>\n",
       "</table>\n",
       "</div>"
      ],
      "text/plain": [
       "      tradeno tradetime boardid secid   price  quantity   value period  tradetime_grp             systime buysell  decimals\n",
       "0  2748066209  09:59:31    TQBR  BANE  1979.0         1  1979.0      S            959 2017-09-15 09:59:31       S         0\n",
       "1  2748066210  09:59:31    TQBR  BANE  1979.0         4  7916.0      S            959 2017-09-15 09:59:31       S         0\n",
       "2  2748066211  09:59:31    TQBR  BANE  1979.0         3  5937.0      S            959 2017-09-15 09:59:31       B         0\n",
       "3  2748066212  09:59:31    TQBR  BANE  1979.0         1  1979.0      S            959 2017-09-15 09:59:31       S         0\n",
       "4  2748066213  09:59:31    TQBR  BANE  1979.0         3  5937.0      S            959 2017-09-15 09:59:31       B         0"
      ]
     },
     "execution_count": 9,
     "metadata": {},
     "output_type": "execute_result"
    }
   ],
   "source": [
    "T.trades.head()"
   ]
  },
  {
   "cell_type": "markdown",
   "metadata": {},
   "source": [
    "We can make a plots"
   ]
  },
  {
   "cell_type": "code",
   "execution_count": 10,
   "metadata": {
    "collapsed": true
   },
   "outputs": [],
   "source": [
    "import matplotlib.pyplot as plt\n",
    "from ISS.plots import tradesplot"
   ]
  },
  {
   "cell_type": "code",
   "execution_count": 11,
   "metadata": {
    "collapsed": false
   },
   "outputs": [
    {
     "name": "stdout",
     "output_type": "stream",
     "text": [
      "------------------------------------------------------------------\n",
      "Trades (0 trades, 0 securityids, time: nan)\n",
      "engine: stock, market: shares, boardid: None, securityid: LKOH\n",
      "------------------------------------------------------------------\n",
      "------------------------------------------------------------------\n",
      "Trades (17875 trades, 1 securityids, time: 2017-09-15 17:20:44)\n",
      "engine: stock, market: shares, boardid: None, securityid: LKOH\n",
      "------------------------------------------------------------------\n",
      "Wall time: 4.16 s\n"
     ]
    }
   ],
   "source": [
    "%%time\n",
    "T = Trades(engine='stock', market='shares', securityid='LKOH')\n",
    "print(T)\n",
    "T.load()\n",
    "print(T)"
   ]
  },
  {
   "cell_type": "code",
   "execution_count": 12,
   "metadata": {
    "collapsed": false
   },
   "outputs": [
    {
     "data": {
      "image/png": "[encoded data removed]",
      "text/plain": [
       "<matplotlib.figure.Figure at 0xe606ef0>"
      ]
     },
     "metadata": {},
     "output_type": "display_data"
    }
   ],
   "source": [
    "fig, [ax1, ax2] = tradesplot(T.trades, T.securityid)\n",
    "plt.show()"
   ]
  }
 ],
 "metadata": {
  "anaconda-cloud": {},
  "kernelspec": {
   "display_name": "Python 2",
   "language": "python",
   "name": "python2"
  },
  "language_info": {
   "codemirror_mode": {
    "name": "ipython",
    "version": 2
   },
   "file_extension": ".py",
   "mimetype": "text/x-python",
   "name": "python",
   "nbconvert_exporter": "python",
   "pygments_lexer": "ipython2",
   "version": "2.7.11"
  }
 },
 "nbformat": 4,
 "nbformat_minor": 0
}
