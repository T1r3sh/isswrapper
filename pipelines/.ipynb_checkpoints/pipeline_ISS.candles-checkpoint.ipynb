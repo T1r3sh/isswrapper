{
 "cells": [
  {
   "cell_type": "code",
   "execution_count": 1,
   "metadata": {
    "collapsed": true
   },
   "outputs": [],
   "source": [
    "import pandas as pd\n",
    "import datetime\n",
    "import random\n",
    "import os\n",
    "import sys\n",
    "\n",
    "pd.set_option('display.max_rows', 500)\n",
    "pd.set_option('display.max_columns', 500)\n",
    "pd.set_option('display.width', 1000)\n",
    "\n",
    "nb_dir = os.path.split(os.getcwd())[0]\n",
    "if nb_dir not in sys.path:\n",
    "    sys.path.append(nb_dir)"
   ]
  },
  {
   "cell_type": "code",
   "execution_count": 2,
   "metadata": {
    "collapsed": false
   },
   "outputs": [],
   "source": [
    "from ISS.candles import Candles"
   ]
  },
  {
   "cell_type": "code",
   "execution_count": 3,
   "metadata": {
    "collapsed": true
   },
   "outputs": [],
   "source": [
    "securityids = ['MOEX', 'SBER', 'AFKS', 'SU25081RMFS9']\n",
    "dt = datetime.date(2017, 9, 11)"
   ]
  },
  {
   "cell_type": "markdown",
   "metadata": {},
   "source": [
    "We can load candles for specific securityid overall boards"
   ]
  },
  {
   "cell_type": "code",
   "execution_count": 4,
   "metadata": {
    "collapsed": false
   },
   "outputs": [
    {
     "name": "stdout",
     "output_type": "stream",
     "text": [
      "------------------------------------------------------------------\n",
      "Candles (0 entries, begin: , end: , interval: 24)\n",
      "engine: stock, market: shares, boardid: None, securityid: MOEX\n",
      "------------------------------------------------------------------\n",
      "------------------------------------------------------------------\n",
      "Candles (1152 entries, begin: , end: , interval: 24)\n",
      "engine: stock, market: shares, boardid: None, securityid: MOEX\n",
      "------------------------------------------------------------------\n",
      "CPU times: user 100 ms, sys: 8 ms, total: 108 ms\n",
      "Wall time: 1.74 s\n"
     ]
    }
   ],
   "source": [
    "%%time\n",
    "C = Candles(engine='stock', market='shares', securityid=securityids[0], interval=24)\n",
    "print(C)\n",
    "C.load()\n",
    "print(C)"
   ]
  },
  {
   "cell_type": "code",
   "execution_count": 5,
   "metadata": {
    "collapsed": false
   },
   "outputs": [
    {
     "data": {
      "text/html": [
       "<div>\n",
       "<table border=\"1\" class=\"dataframe\">\n",
       "  <thead>\n",
       "    <tr style=\"text-align: right;\">\n",
       "      <th></th>\n",
       "      <th>open</th>\n",
       "      <th>close</th>\n",
       "      <th>high</th>\n",
       "      <th>low</th>\n",
       "      <th>value</th>\n",
       "      <th>volume</th>\n",
       "      <th>begin</th>\n",
       "      <th>end</th>\n",
       "    </tr>\n",
       "  </thead>\n",
       "  <tbody>\n",
       "    <tr>\n",
       "      <th>0</th>\n",
       "      <td>58.15</td>\n",
       "      <td>55.00</td>\n",
       "      <td>58.15</td>\n",
       "      <td>51.23</td>\n",
       "      <td>334608786.3</td>\n",
       "      <td>6082550</td>\n",
       "      <td>2013-02-15</td>\n",
       "      <td>2013-02-15 23:59:59</td>\n",
       "    </tr>\n",
       "    <tr>\n",
       "      <th>1</th>\n",
       "      <td>55.00</td>\n",
       "      <td>56.02</td>\n",
       "      <td>56.60</td>\n",
       "      <td>54.18</td>\n",
       "      <td>152576101.0</td>\n",
       "      <td>2767350</td>\n",
       "      <td>2013-02-18</td>\n",
       "      <td>2013-02-18 23:59:59</td>\n",
       "    </tr>\n",
       "    <tr>\n",
       "      <th>2</th>\n",
       "      <td>56.54</td>\n",
       "      <td>56.00</td>\n",
       "      <td>56.60</td>\n",
       "      <td>55.95</td>\n",
       "      <td>98840767.4</td>\n",
       "      <td>1761630</td>\n",
       "      <td>2013-02-19</td>\n",
       "      <td>2013-02-19 23:59:59</td>\n",
       "    </tr>\n",
       "    <tr>\n",
       "      <th>3</th>\n",
       "      <td>56.30</td>\n",
       "      <td>55.40</td>\n",
       "      <td>56.50</td>\n",
       "      <td>54.98</td>\n",
       "      <td>79847643.3</td>\n",
       "      <td>1438600</td>\n",
       "      <td>2013-02-20</td>\n",
       "      <td>2013-02-20 23:59:59</td>\n",
       "    </tr>\n",
       "    <tr>\n",
       "      <th>4</th>\n",
       "      <td>55.18</td>\n",
       "      <td>54.70</td>\n",
       "      <td>55.39</td>\n",
       "      <td>54.41</td>\n",
       "      <td>28486704.7</td>\n",
       "      <td>519350</td>\n",
       "      <td>2013-02-21</td>\n",
       "      <td>2013-02-21 23:59:59</td>\n",
       "    </tr>\n",
       "  </tbody>\n",
       "</table>\n",
       "</div>"
      ],
      "text/plain": [
       "    open  close   high    low        value   volume      begin                 end\n",
       "0  58.15  55.00  58.15  51.23  334608786.3  6082550 2013-02-15 2013-02-15 23:59:59\n",
       "1  55.00  56.02  56.60  54.18  152576101.0  2767350 2013-02-18 2013-02-18 23:59:59\n",
       "2  56.54  56.00  56.60  55.95   98840767.4  1761630 2013-02-19 2013-02-19 23:59:59\n",
       "3  56.30  55.40  56.50  54.98   79847643.3  1438600 2013-02-20 2013-02-20 23:59:59\n",
       "4  55.18  54.70  55.39  54.41   28486704.7   519350 2013-02-21 2013-02-21 23:59:59"
      ]
     },
     "execution_count": 5,
     "metadata": {},
     "output_type": "execute_result"
    }
   ],
   "source": [
    "C.candles.head()"
   ]
  },
  {
   "cell_type": "markdown",
   "metadata": {},
   "source": [
    "Or we can load candles for specific securityid, boardid"
   ]
  },
  {
   "cell_type": "code",
   "execution_count": 6,
   "metadata": {
    "collapsed": false
   },
   "outputs": [
    {
     "name": "stdout",
     "output_type": "stream",
     "text": [
      "------------------------------------------------------------------\n",
      "Candles (0 entries, begin: , end: , interval: 24)\n",
      "engine: stock, market: shares, boardid: TQBR, securityid: MOEX\n",
      "------------------------------------------------------------------\n",
      "------------------------------------------------------------------\n",
      "Candles (1119 entries, begin: , end: , interval: 24)\n",
      "engine: stock, market: shares, boardid: TQBR, securityid: MOEX\n",
      "------------------------------------------------------------------\n",
      "CPU times: user 96 ms, sys: 8 ms, total: 104 ms\n",
      "Wall time: 1.02 s\n"
     ]
    }
   ],
   "source": [
    "%%time\n",
    "C = Candles(engine='stock', market='shares', boardid='TQBR', securityid=securityids[0], interval=24)\n",
    "print(C)\n",
    "C.load()\n",
    "print(C)"
   ]
  },
  {
   "cell_type": "code",
   "execution_count": 7,
   "metadata": {
    "collapsed": false
   },
   "outputs": [
    {
     "data": {
      "text/html": [
       "<div>\n",
       "<table border=\"1\" class=\"dataframe\">\n",
       "  <thead>\n",
       "    <tr style=\"text-align: right;\">\n",
       "      <th></th>\n",
       "      <th>open</th>\n",
       "      <th>close</th>\n",
       "      <th>high</th>\n",
       "      <th>low</th>\n",
       "      <th>value</th>\n",
       "      <th>volume</th>\n",
       "      <th>begin</th>\n",
       "      <th>end</th>\n",
       "    </tr>\n",
       "  </thead>\n",
       "  <tbody>\n",
       "    <tr>\n",
       "      <th>0</th>\n",
       "      <td>48.07</td>\n",
       "      <td>48.43</td>\n",
       "      <td>48.65</td>\n",
       "      <td>47.42</td>\n",
       "      <td>8767126.7</td>\n",
       "      <td>181760</td>\n",
       "      <td>2013-04-04</td>\n",
       "      <td>2013-04-04 23:59:59</td>\n",
       "    </tr>\n",
       "    <tr>\n",
       "      <th>1</th>\n",
       "      <td>48.43</td>\n",
       "      <td>48.50</td>\n",
       "      <td>48.61</td>\n",
       "      <td>47.50</td>\n",
       "      <td>5964565.5</td>\n",
       "      <td>123940</td>\n",
       "      <td>2013-04-05</td>\n",
       "      <td>2013-04-05 23:59:59</td>\n",
       "    </tr>\n",
       "    <tr>\n",
       "      <th>2</th>\n",
       "      <td>48.67</td>\n",
       "      <td>47.52</td>\n",
       "      <td>48.88</td>\n",
       "      <td>47.50</td>\n",
       "      <td>5280065.5</td>\n",
       "      <td>110530</td>\n",
       "      <td>2013-04-08</td>\n",
       "      <td>2013-04-08 23:59:59</td>\n",
       "    </tr>\n",
       "    <tr>\n",
       "      <th>3</th>\n",
       "      <td>48.23</td>\n",
       "      <td>47.40</td>\n",
       "      <td>48.23</td>\n",
       "      <td>47.40</td>\n",
       "      <td>9993069.9</td>\n",
       "      <td>209980</td>\n",
       "      <td>2013-04-09</td>\n",
       "      <td>2013-04-09 23:59:59</td>\n",
       "    </tr>\n",
       "    <tr>\n",
       "      <th>4</th>\n",
       "      <td>48.00</td>\n",
       "      <td>46.87</td>\n",
       "      <td>48.00</td>\n",
       "      <td>46.75</td>\n",
       "      <td>20036515.1</td>\n",
       "      <td>424170</td>\n",
       "      <td>2013-04-10</td>\n",
       "      <td>2013-04-10 23:59:59</td>\n",
       "    </tr>\n",
       "  </tbody>\n",
       "</table>\n",
       "</div>"
      ],
      "text/plain": [
       "    open  close   high    low       value  volume      begin                 end\n",
       "0  48.07  48.43  48.65  47.42   8767126.7  181760 2013-04-04 2013-04-04 23:59:59\n",
       "1  48.43  48.50  48.61  47.50   5964565.5  123940 2013-04-05 2013-04-05 23:59:59\n",
       "2  48.67  47.52  48.88  47.50   5280065.5  110530 2013-04-08 2013-04-08 23:59:59\n",
       "3  48.23  47.40  48.23  47.40   9993069.9  209980 2013-04-09 2013-04-09 23:59:59\n",
       "4  48.00  46.87  48.00  46.75  20036515.1  424170 2013-04-10 2013-04-10 23:59:59"
      ]
     },
     "execution_count": 7,
     "metadata": {},
     "output_type": "execute_result"
    }
   ],
   "source": [
    "C.candles.head()"
   ]
  },
  {
   "cell_type": "markdown",
   "metadata": {},
   "source": [
    "We even can specify:\n",
    "- __dt1__ - begin of period\n",
    "- __dt2__ - end of period\n",
    "- __interval__ - default _10 (10m)_:\n",
    "    - __1__ - 1m\n",
    "    - __10__ - 10m\n",
    "    - __60__ - 1h\n",
    "    - __24__ - 1d"
   ]
  },
  {
   "cell_type": "code",
   "execution_count": 8,
   "metadata": {
    "collapsed": false
   },
   "outputs": [
    {
     "name": "stdout",
     "output_type": "stream",
     "text": [
      "------------------------------------------------------------------\n",
      "Candles (0 entries, begin: 2017-09-15, end: 2017-09-15, interval: 1)\n",
      "engine: stock, market: shares, boardid: TQBR, securityid: MOEX\n",
      "------------------------------------------------------------------\n",
      "------------------------------------------------------------------\n",
      "Candles (515 entries, begin: 2017-09-15, end: 2017-09-15, interval: 1)\n",
      "engine: stock, market: shares, boardid: TQBR, securityid: MOEX\n",
      "------------------------------------------------------------------\n",
      "CPU times: user 64 ms, sys: 12 ms, total: 76 ms\n",
      "Wall time: 1.01 s\n"
     ]
    }
   ],
   "source": [
    "%%time\n",
    "dt = datetime.date(2017, 9, 15)\n",
    "C = Candles(engine='stock', market='shares', boardid='TQBR', securityid=securityids[0], interval=1,\n",
    "            dt1=dt, dt2=dt)\n",
    "print(C)\n",
    "C.load()\n",
    "print(C)"
   ]
  },
  {
   "cell_type": "code",
   "execution_count": 9,
   "metadata": {
    "collapsed": false
   },
   "outputs": [
    {
     "data": {
      "text/html": [
       "<div>\n",
       "<table border=\"1\" class=\"dataframe\">\n",
       "  <thead>\n",
       "    <tr style=\"text-align: right;\">\n",
       "      <th></th>\n",
       "      <th>open</th>\n",
       "      <th>close</th>\n",
       "      <th>high</th>\n",
       "      <th>low</th>\n",
       "      <th>value</th>\n",
       "      <th>volume</th>\n",
       "      <th>begin</th>\n",
       "      <th>end</th>\n",
       "    </tr>\n",
       "  </thead>\n",
       "  <tbody>\n",
       "    <tr>\n",
       "      <th>0</th>\n",
       "      <td>113.20</td>\n",
       "      <td>113.20</td>\n",
       "      <td>113.20</td>\n",
       "      <td>113.20</td>\n",
       "      <td>5036268.0</td>\n",
       "      <td>44490</td>\n",
       "      <td>2017-09-15 09:59:00</td>\n",
       "      <td>2017-09-15 09:59:59</td>\n",
       "    </tr>\n",
       "    <tr>\n",
       "      <th>1</th>\n",
       "      <td>112.87</td>\n",
       "      <td>112.91</td>\n",
       "      <td>112.95</td>\n",
       "      <td>112.83</td>\n",
       "      <td>740712.6</td>\n",
       "      <td>6560</td>\n",
       "      <td>2017-09-15 10:00:00</td>\n",
       "      <td>2017-09-15 10:00:59</td>\n",
       "    </tr>\n",
       "    <tr>\n",
       "      <th>2</th>\n",
       "      <td>112.89</td>\n",
       "      <td>112.85</td>\n",
       "      <td>112.90</td>\n",
       "      <td>112.85</td>\n",
       "      <td>116279.4</td>\n",
       "      <td>1030</td>\n",
       "      <td>2017-09-15 10:01:00</td>\n",
       "      <td>2017-09-15 10:01:59</td>\n",
       "    </tr>\n",
       "    <tr>\n",
       "      <th>3</th>\n",
       "      <td>112.84</td>\n",
       "      <td>112.48</td>\n",
       "      <td>112.86</td>\n",
       "      <td>112.48</td>\n",
       "      <td>3319497.4</td>\n",
       "      <td>29480</td>\n",
       "      <td>2017-09-15 10:02:00</td>\n",
       "      <td>2017-09-15 10:02:59</td>\n",
       "    </tr>\n",
       "    <tr>\n",
       "      <th>4</th>\n",
       "      <td>112.57</td>\n",
       "      <td>112.56</td>\n",
       "      <td>112.59</td>\n",
       "      <td>112.50</td>\n",
       "      <td>21385.3</td>\n",
       "      <td>190</td>\n",
       "      <td>2017-09-15 10:03:00</td>\n",
       "      <td>2017-09-15 10:03:59</td>\n",
       "    </tr>\n",
       "  </tbody>\n",
       "</table>\n",
       "</div>"
      ],
      "text/plain": [
       "     open   close    high     low      value  volume               begin                 end\n",
       "0  113.20  113.20  113.20  113.20  5036268.0   44490 2017-09-15 09:59:00 2017-09-15 09:59:59\n",
       "1  112.87  112.91  112.95  112.83   740712.6    6560 2017-09-15 10:00:00 2017-09-15 10:00:59\n",
       "2  112.89  112.85  112.90  112.85   116279.4    1030 2017-09-15 10:01:00 2017-09-15 10:01:59\n",
       "3  112.84  112.48  112.86  112.48  3319497.4   29480 2017-09-15 10:02:00 2017-09-15 10:02:59\n",
       "4  112.57  112.56  112.59  112.50    21385.3     190 2017-09-15 10:03:00 2017-09-15 10:03:59"
      ]
     },
     "execution_count": 9,
     "metadata": {},
     "output_type": "execute_result"
    }
   ],
   "source": [
    "C.candles.head()"
   ]
  },
  {
   "cell_type": "code",
   "execution_count": 10,
   "metadata": {
    "collapsed": false
   },
   "outputs": [
    {
     "name": "stdout",
     "output_type": "stream",
     "text": [
      "------------------------------------------------------------------\n",
      "Candles (0 entries, begin: 2017-09-14, end: 2017-09-15, interval: 1)\n",
      "engine: stock, market: shares, boardid: TQBR, securityid: MOEX\n",
      "------------------------------------------------------------------\n",
      "------------------------------------------------------------------\n",
      "Candles (1025 entries, begin: 2017-09-14, end: 2017-09-15, interval: 1)\n",
      "engine: stock, market: shares, boardid: TQBR, securityid: MOEX\n",
      "------------------------------------------------------------------\n",
      "CPU times: user 92 ms, sys: 8 ms, total: 100 ms\n",
      "Wall time: 1.82 s\n"
     ]
    }
   ],
   "source": [
    "%%time\n",
    "dt1 = datetime.date(2017, 9, 14)\n",
    "dt2 = datetime.date(2017, 9, 15)\n",
    "C = Candles(engine='stock', market='shares', boardid='TQBR', securityid=securityids[0], interval=1,\n",
    "            dt1=dt1, dt2=dt2)\n",
    "print(C)\n",
    "C.load()\n",
    "print(C)"
   ]
  },
  {
   "cell_type": "markdown",
   "metadata": {},
   "source": [
    "We can make a plots"
   ]
  },
  {
   "cell_type": "code",
   "execution_count": null,
   "metadata": {
    "collapsed": true
   },
   "outputs": [],
   "source": [
    "import matplotlib.pyplot as plt\n",
    "from ISS.plots import candlesplot"
   ]
  },
  {
   "cell_type": "code",
   "execution_count": null,
   "metadata": {
    "collapsed": true
   },
   "outputs": [],
   "source": [
    "fig, [ax1, ax2] = candlesplot(C.candles, C.securityid)\n",
    "plt.show()"
   ]
  }
 ],
 "metadata": {
  "anaconda-cloud": {},
  "kernelspec": {
   "display_name": "Python 2",
   "language": "python",
   "name": "python2"
  },
  "language_info": {
   "codemirror_mode": {
    "name": "ipython",
    "version": 2
   },
   "file_extension": ".py",
   "mimetype": "text/x-python",
   "name": "python",
   "nbconvert_exporter": "python",
   "pygments_lexer": "ipython2",
   "version": "2.7.11"
  }
 },
 "nbformat": 4,
 "nbformat_minor": 0
}
